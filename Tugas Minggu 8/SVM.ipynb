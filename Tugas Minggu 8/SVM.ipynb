{
 "cells": [
  {
   "cell_type": "markdown",
   "metadata": {},
   "source": [
    "## Support Vector Machine(SVM) pada data Heartdisease"
   ]
  },
  {
   "cell_type": "code",
   "execution_count": 1,
   "metadata": {},
   "outputs": [],
   "source": [
    "# Import Library\n",
    "import pandas as pd\n",
    "import numpy as np\n",
    "from sklearn.model_selection import train_test_split # Import train_test_split function\n",
    "from sklearn import metrics #Import scikit-learn metrics module for accuracy calculation\n",
    "from sklearn import svm"
   ]
  },
  {
   "cell_type": "code",
   "execution_count": 2,
   "metadata": {},
   "outputs": [],
   "source": [
    "# Membaca file csv\n",
    "df = pd.read_csv(\"heartdisease.csv\")"
   ]
  },
  {
   "cell_type": "code",
   "execution_count": 3,
   "metadata": {},
   "outputs": [
    {
     "data": {
      "text/html": [
       "<div>\n",
       "<style scoped>\n",
       "    .dataframe tbody tr th:only-of-type {\n",
       "        vertical-align: middle;\n",
       "    }\n",
       "\n",
       "    .dataframe tbody tr th {\n",
       "        vertical-align: top;\n",
       "    }\n",
       "\n",
       "    .dataframe thead th {\n",
       "        text-align: right;\n",
       "    }\n",
       "</style>\n",
       "<table border=\"1\" class=\"dataframe\">\n",
       "  <thead>\n",
       "    <tr style=\"text-align: right;\">\n",
       "      <th></th>\n",
       "      <th>age</th>\n",
       "      <th>gender</th>\n",
       "      <th>chest pain</th>\n",
       "      <th>rest SBP</th>\n",
       "      <th>cholesterol</th>\n",
       "      <th>fasting blood sugar &gt; 120</th>\n",
       "      <th>rest ECG</th>\n",
       "      <th>max HR</th>\n",
       "      <th>exerc ind ang</th>\n",
       "      <th>ST by exercise</th>\n",
       "      <th>slope peak exc ST</th>\n",
       "      <th>major vessels colored</th>\n",
       "      <th>thal</th>\n",
       "      <th>diameter narrowing</th>\n",
       "    </tr>\n",
       "  </thead>\n",
       "  <tbody>\n",
       "    <tr>\n",
       "      <th>0</th>\n",
       "      <td>63</td>\n",
       "      <td>0</td>\n",
       "      <td>4</td>\n",
       "      <td>145</td>\n",
       "      <td>233</td>\n",
       "      <td>1</td>\n",
       "      <td>2</td>\n",
       "      <td>150</td>\n",
       "      <td>0</td>\n",
       "      <td>2.3</td>\n",
       "      <td>2</td>\n",
       "      <td>0</td>\n",
       "      <td>1</td>\n",
       "      <td>0</td>\n",
       "    </tr>\n",
       "    <tr>\n",
       "      <th>1</th>\n",
       "      <td>67</td>\n",
       "      <td>0</td>\n",
       "      <td>1</td>\n",
       "      <td>160</td>\n",
       "      <td>286</td>\n",
       "      <td>0</td>\n",
       "      <td>2</td>\n",
       "      <td>108</td>\n",
       "      <td>1</td>\n",
       "      <td>1.5</td>\n",
       "      <td>0</td>\n",
       "      <td>3</td>\n",
       "      <td>0</td>\n",
       "      <td>1</td>\n",
       "    </tr>\n",
       "    <tr>\n",
       "      <th>2</th>\n",
       "      <td>67</td>\n",
       "      <td>0</td>\n",
       "      <td>1</td>\n",
       "      <td>120</td>\n",
       "      <td>229</td>\n",
       "      <td>0</td>\n",
       "      <td>2</td>\n",
       "      <td>129</td>\n",
       "      <td>1</td>\n",
       "      <td>2.6</td>\n",
       "      <td>0</td>\n",
       "      <td>2</td>\n",
       "      <td>2</td>\n",
       "      <td>1</td>\n",
       "    </tr>\n",
       "    <tr>\n",
       "      <th>3</th>\n",
       "      <td>37</td>\n",
       "      <td>0</td>\n",
       "      <td>2</td>\n",
       "      <td>130</td>\n",
       "      <td>250</td>\n",
       "      <td>0</td>\n",
       "      <td>0</td>\n",
       "      <td>187</td>\n",
       "      <td>0</td>\n",
       "      <td>3.5</td>\n",
       "      <td>2</td>\n",
       "      <td>0</td>\n",
       "      <td>0</td>\n",
       "      <td>0</td>\n",
       "    </tr>\n",
       "    <tr>\n",
       "      <th>4</th>\n",
       "      <td>41</td>\n",
       "      <td>1</td>\n",
       "      <td>3</td>\n",
       "      <td>130</td>\n",
       "      <td>204</td>\n",
       "      <td>0</td>\n",
       "      <td>2</td>\n",
       "      <td>172</td>\n",
       "      <td>0</td>\n",
       "      <td>1.4</td>\n",
       "      <td>1</td>\n",
       "      <td>0</td>\n",
       "      <td>0</td>\n",
       "      <td>0</td>\n",
       "    </tr>\n",
       "  </tbody>\n",
       "</table>\n",
       "</div>"
      ],
      "text/plain": [
       "   age  gender  chest pain  rest SBP  cholesterol  fasting blood sugar > 120  \\\n",
       "0   63       0           4       145          233                          1   \n",
       "1   67       0           1       160          286                          0   \n",
       "2   67       0           1       120          229                          0   \n",
       "3   37       0           2       130          250                          0   \n",
       "4   41       1           3       130          204                          0   \n",
       "\n",
       "   rest ECG  max HR  exerc ind ang  ST by exercise  slope peak exc ST  \\\n",
       "0         2     150              0             2.3                  2   \n",
       "1         2     108              1             1.5                  0   \n",
       "2         2     129              1             2.6                  0   \n",
       "3         0     187              0             3.5                  2   \n",
       "4         2     172              0             1.4                  1   \n",
       "\n",
       "  major vessels colored thal  diameter narrowing  \n",
       "0                     0    1                   0  \n",
       "1                     3    0                   1  \n",
       "2                     2    2                   1  \n",
       "3                     0    0                   0  \n",
       "4                     0    0                   0  "
      ]
     },
     "execution_count": 3,
     "metadata": {},
     "output_type": "execute_result"
    }
   ],
   "source": [
    "# Print 5 data teratas\n",
    "df.head(5)"
   ]
  },
  {
   "cell_type": "markdown",
   "metadata": {},
   "source": [
    "## Mengubah semua fitur menjadi numeric"
   ]
  },
  {
   "cell_type": "code",
   "execution_count": 4,
   "metadata": {},
   "outputs": [
    {
     "data": {
      "text/plain": [
       "age                            int64\n",
       "gender                         int64\n",
       "chest pain                     int64\n",
       "rest SBP                       int64\n",
       "cholesterol                    int64\n",
       "fasting blood sugar > 120      int64\n",
       "rest ECG                       int64\n",
       "max HR                         int64\n",
       "exerc ind ang                  int64\n",
       "ST by exercise               float64\n",
       "slope peak exc ST              int64\n",
       "major vessels colored         object\n",
       "thal                          object\n",
       "diameter narrowing             int64\n",
       "dtype: object"
      ]
     },
     "execution_count": 4,
     "metadata": {},
     "output_type": "execute_result"
    }
   ],
   "source": [
    "# Cek type data awal\n",
    "df.dtypes"
   ]
  },
  {
   "cell_type": "code",
   "execution_count": 5,
   "metadata": {},
   "outputs": [
    {
     "data": {
      "text/plain": [
       "(303, 14)"
      ]
     },
     "execution_count": 5,
     "metadata": {},
     "output_type": "execute_result"
    }
   ],
   "source": [
    "# Cek ukuran/banyak data\n",
    "df.shape"
   ]
  },
  {
   "cell_type": "code",
   "execution_count": 6,
   "metadata": {},
   "outputs": [],
   "source": [
    "# Menghapus data yang mengandung '?'\n",
    "df = df[~((df['major vessels colored'] == '?' ) | (df['thal'] == '?' ))]"
   ]
  },
  {
   "cell_type": "code",
   "execution_count": 7,
   "metadata": {},
   "outputs": [
    {
     "data": {
      "text/plain": [
       "(297, 14)"
      ]
     },
     "execution_count": 7,
     "metadata": {},
     "output_type": "execute_result"
    }
   ],
   "source": [
    "# Cek banyak data setelah dihapus\n",
    "df.shape"
   ]
  },
  {
   "cell_type": "code",
   "execution_count": 8,
   "metadata": {},
   "outputs": [],
   "source": [
    "# Mengubah type data pada 2 colum berikut menjadi numeric\n",
    "df[['major vessels colored', 'thal']] = df[['major vessels colored', 'thal']].apply(pd.to_numeric)"
   ]
  },
  {
   "cell_type": "code",
   "execution_count": 9,
   "metadata": {},
   "outputs": [
    {
     "data": {
      "text/plain": [
       "age                            int64\n",
       "gender                         int64\n",
       "chest pain                     int64\n",
       "rest SBP                       int64\n",
       "cholesterol                    int64\n",
       "fasting blood sugar > 120      int64\n",
       "rest ECG                       int64\n",
       "max HR                         int64\n",
       "exerc ind ang                  int64\n",
       "ST by exercise               float64\n",
       "slope peak exc ST              int64\n",
       "major vessels colored          int64\n",
       "thal                           int64\n",
       "diameter narrowing             int64\n",
       "dtype: object"
      ]
     },
     "execution_count": 9,
     "metadata": {},
     "output_type": "execute_result"
    }
   ],
   "source": [
    "# Cek type data setelah diubah\n",
    "df.dtypes"
   ]
  },
  {
   "cell_type": "markdown",
   "metadata": {},
   "source": [
    "## SVM"
   ]
  },
  {
   "cell_type": "code",
   "execution_count": 10,
   "metadata": {},
   "outputs": [],
   "source": [
    "# Menentukan fitur\n",
    "X = df[['age', 'gender', 'chest pain', 'rest SBP', 'cholesterol', 'fasting blood sugar > 120', 'rest ECG', 'max HR', 'exerc ind ang', 'ST by exercise', 'slope peak exc ST', 'major vessels colored', 'thal']]\n",
    "\n",
    "# Menentukan target\n",
    "y = df[['diameter narrowing']]"
   ]
  },
  {
   "cell_type": "code",
   "execution_count": 11,
   "metadata": {},
   "outputs": [],
   "source": [
    "# Menentukan data test, data train\n",
    "X_train, X_test, y_train, y_test = train_test_split(X, y, test_size=0.2, random_state=1)"
   ]
  },
  {
   "cell_type": "code",
   "execution_count": 12,
   "metadata": {},
   "outputs": [
    {
     "name": "stdout",
     "output_type": "stream",
     "text": [
      "Accuracy linear: 0.8666666666666667\n",
      "Accuracy rbf: 0.5333333333333333\n",
      "Accuracy polynomial: 0.6166666666666667\n",
      "Accuracy sigmoid: 0.5\n"
     ]
    }
   ],
   "source": [
    "# SVM classifier\n",
    "clf = svm.SVC(kernel='linear') # Linear\n",
    "rbf_clf = svm.SVC(kernel='rbf', gamma='scale') # Gaussian/rbf\n",
    "poly_clf = svm.SVC(kernel='poly', gamma='scale') # Polynomial\n",
    "sig_clf = svm.SVC(kernel='sigmoid', gamma='scale') # Sigmoid\n",
    "\n",
    "# Train model menggunakan data\n",
    "clf.fit(X_train, y_train.values.ravel())\n",
    "rbf_clf.fit(X_train, y_train.values.ravel())\n",
    "poly_clf.fit(X_train, y_train.values.ravel())\n",
    "sig_clf.fit(X_train, y_train.values.ravel())\n",
    "\n",
    "# Membuat prediksi\n",
    "lin_y_pred = clf.predict(X_test)\n",
    "rbf_y_pred = rbf_clf.predict(X_test)\n",
    "poly_y_pred = poly_clf.predict(X_test)\n",
    "sig_y_pred = sig_clf.predict(X_test)\n",
    "\n",
    "# Menghitung akurasi\n",
    "print(\"Accuracy linear:\",metrics.accuracy_score(y_test, lin_y_pred))\n",
    "print(\"Accuracy rbf:\",metrics.accuracy_score(y_test, rbf_y_pred))\n",
    "print(\"Accuracy polynomial:\",metrics.accuracy_score(y_test, poly_y_pred))\n",
    "print(\"Accuracy sigmoid:\",metrics.accuracy_score(y_test, sig_y_pred))"
   ]
  },
  {
   "cell_type": "code",
   "execution_count": null,
   "metadata": {},
   "outputs": [],
   "source": []
  }
 ],
 "metadata": {
  "kernelspec": {
   "display_name": "Python 3",
   "language": "python",
   "name": "python3"
  },
  "language_info": {
   "codemirror_mode": {
    "name": "ipython",
    "version": 3
   },
   "file_extension": ".py",
   "mimetype": "text/x-python",
   "name": "python",
   "nbconvert_exporter": "python",
   "pygments_lexer": "ipython3",
   "version": "3.7.8"
  }
 },
 "nbformat": 4,
 "nbformat_minor": 4
}
